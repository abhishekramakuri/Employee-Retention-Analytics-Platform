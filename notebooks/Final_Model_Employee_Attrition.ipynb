{
 "cells": [
  {
   "cell_type": "markdown",
   "metadata": {},
   "source": [
    "# Employee Attrition Prediction: Final Notebook\n",
    "\n",
    "## Objective\n",
    "This notebook demonstrates the end-to-end process of using a Random Forest model to predict employee attrition. It incorporates the preprocessed data, retrains the model within the notebook using the best hyperparameters, and evaluates its performance on the test dataset.\n",
    "\n",
    "## Workflow:\n",
    "1. **Data Preparation**: Load and preprocess the dataset, including handling class imbalance with SMOTE and encoding categorical features.\n",
    "2. **Model Training**: Retrain the Random Forest model within this notebook using the identified best hyperparameters.\n",
    "3. **Evaluation**: Assess the model's performance on the test set using metrics like accuracy, precision, recall, F1-score, and ROC-AUC.\n",
    "4. **Visualization**: Visualize the model's performance with tools such as the ROC Curve and Confusion Matrix.\n",
    "5. **Conclusion**: Summarize findings, discuss business implications, and highlight potential next steps."
   ]
  },
  {
   "cell_type": "code",
   "execution_count": 59,
   "metadata": {},
   "outputs": [
    {
     "name": "stdout",
     "output_type": "stream",
     "text": [
      "Environment set up successfully.\n"
     ]
    }
   ],
   "source": [
    "# Import necessary libraries\n",
    "import pandas as pd\n",
    "import joblib\n",
    "import matplotlib.pyplot as plt\n",
    "from sklearn.metrics import classification_report, confusion_matrix, roc_auc_score, RocCurveDisplay\n",
    "\n",
    "# Display settings\n",
    "plt.style.use('seaborn-v0_8-darkgrid')\n",
    "pd.set_option('display.max_columns', None)\n",
    "pd.set_option('display.width', 1000)\n",
    "\n",
    "print(\"Environment set up successfully.\")"
   ]
  },
  {
   "cell_type": "markdown",
   "metadata": {},
   "source": [
    "## Data Preparation\n",
    "\n",
    "This section focuses on preparing the dataset for modeling. The key steps include:\n",
    "1. Load the pre-engineered dataset.\n",
    "2. Inspect the dataset for missing values and class imbalance.\n",
    "3. Apply SMOTE to handle the class imbalance in the target variable.\n",
    "4. Split the resampled dataset into training and testing sets (70/30 split).\n",
    "5. Encode categorical variables using one-hot encoding to ensure compatibility with machine learning models."
   ]
  },
  {
   "cell_type": "code",
   "execution_count": 65,
   "metadata": {},
   "outputs": [
    {
     "name": "stdout",
     "output_type": "stream",
     "text": [
      "Class Distribution Before SMOTE: Counter({0: 1233, 1: 237})\n",
      "Class Distribution After SMOTE: Counter({1: 1233, 0: 1233})\n",
      "\n",
      "Training Set Shape (X, y): (1726, 49) (1726,)\n",
      "Testing Set Shape (X, y): (740, 49) (740,)\n"
     ]
    },
    {
     "name": "stderr",
     "output_type": "stream",
     "text": [
      "/Users/quinnreams/Documents/GitHub/employee-retention-dashboard/venv/lib/python3.9/site-packages/sklearn/base.py:474: FutureWarning: `BaseEstimator._validate_data` is deprecated in 1.6 and will be removed in 1.7. Use `sklearn.utils.validation.validate_data` instead. This function becomes public and is part of the scikit-learn developer API.\n",
      "  warnings.warn(\n"
     ]
    }
   ],
   "source": [
    "# Import necessary libraries\n",
    "import pandas as pd\n",
    "from sklearn.model_selection import train_test_split\n",
    "from imblearn.over_sampling import SMOTE\n",
    "from collections import Counter\n",
    "\n",
    "# Step 1: Load the dataset\n",
    "data = pd.read_csv('../data/engineered_dataset.csv')\n",
    "target_column = 'Attrition'\n",
    "X = data.drop(columns=[target_column])\n",
    "y = data[target_column]\n",
    "\n",
    "# Step 2: Encode categorical features using one-hot encoding\n",
    "X_encoded = pd.get_dummies(X, drop_first=True)\n",
    "\n",
    "# Step 3: Handle class imbalance using SMOTE\n",
    "smote = SMOTE(random_state=42)\n",
    "X_resampled, y_resampled = smote.fit_resample(X_encoded, y)\n",
    "\n",
    "# Verify class distribution after SMOTE\n",
    "print(\"Class Distribution Before SMOTE:\", Counter(y))\n",
    "print(\"Class Distribution After SMOTE:\", Counter(y_resampled))\n",
    "\n",
    "# Step 4: Split the resampled data into training and testing sets (70/30 split)\n",
    "X_train, X_test, y_train, y_test = train_test_split(\n",
    "    X_resampled, y_resampled, test_size=0.3, random_state=42, stratify=y_resampled\n",
    ")\n",
    "\n",
    "print(\"\\nTraining Set Shape (X, y):\", X_train.shape, y_train.shape)\n",
    "print(\"Testing Set Shape (X, y):\", X_test.shape, y_test.shape)"
   ]
  },
  {
   "cell_type": "markdown",
   "metadata": {},
   "source": [
    "## Model Reloading\n",
    "\n",
    "In this step, we train the Random Forest model within this notebook using the best hyperparameters identified in the previous analysis. This ensures consistency with the current dataset and preprocessing steps.\n",
    "\n",
    "The model was trained with the following best parameters:\n",
    "- `n_estimators`: 300\n",
    "- `max_depth`: 20\n",
    "- `min_samples_split`: 2\n",
    "- `min_samples_leaf`: 1\n",
    "- `class_weight`: 'balanced_subsample'"
   ]
  },
  {
   "cell_type": "code",
   "execution_count": 66,
   "metadata": {},
   "outputs": [
    {
     "name": "stdout",
     "output_type": "stream",
     "text": [
      "Model retrained successfully.\n"
     ]
    }
   ],
   "source": [
    "from sklearn.ensemble import RandomForestClassifier\n",
    "\n",
    "# Initialize the Random Forest model with the best parameters\n",
    "best_rf_model = RandomForestClassifier(\n",
    "    n_estimators=300,\n",
    "    max_depth=20,\n",
    "    min_samples_split=2,\n",
    "    min_samples_leaf=1,\n",
    "    class_weight='balanced_subsample',\n",
    "    random_state=42\n",
    ")\n",
    "\n",
    "# Train the model\n",
    "best_rf_model.fit(X_train, y_train)\n",
    "print(\"Model retrained successfully.\")"
   ]
  },
  {
   "cell_type": "markdown",
   "metadata": {},
   "source": [
    "## Model Evaluation\n",
    "\n",
    "This step evaluates the retrained Random Forest model's performance on the test dataset. The results are as follows:\n",
    "\n",
    "### Metrics:\n",
    "1. **Accuracy**: 94%\n",
    "2. **Precision, Recall, F1-Score**:\n",
    "   - Class `0` (No Attrition): Precision = 92%, Recall = 95%, F1-Score = 94%.\n",
    "   - Class `1` (Attrition): Precision = 95%, Recall = 92%, F1-Score = 93%.\n",
    "3. **ROC-AUC**: 0.98\n",
    "4. **Confusion Matrix**:"
   ]
  },
  {
   "cell_type": "code",
   "execution_count": 67,
   "metadata": {},
   "outputs": [
    {
     "name": "stdout",
     "output_type": "stream",
     "text": [
      "\n",
      "Test Accuracy: 0.94\n",
      "\n",
      "Classification Report:\n",
      "              precision    recall  f1-score   support\n",
      "\n",
      "           0       0.92      0.95      0.94       370\n",
      "           1       0.95      0.92      0.93       370\n",
      "\n",
      "    accuracy                           0.94       740\n",
      "   macro avg       0.94      0.94      0.94       740\n",
      "weighted avg       0.94      0.94      0.94       740\n",
      "\n",
      "\n",
      "Confusion Matrix:\n",
      "[[352  18]\n",
      " [ 30 340]]\n",
      "\n",
      "ROC-AUC Score: 0.98\n"
     ]
    },
    {
     "data": {
      "image/png": "[encoded data removed]",
      "text/plain": [
       "<Figure size 800x550 with 1 Axes>"
      ]
     },
     "metadata": {},
     "output_type": "display_data"
    }
   ],
   "source": [
    "from sklearn.metrics import classification_report, confusion_matrix, roc_auc_score, RocCurveDisplay\n",
    "import matplotlib.pyplot as plt\n",
    "\n",
    "# Predict on the test set\n",
    "y_pred = best_rf_model.predict(X_test)\n",
    "y_proba = best_rf_model.predict_proba(X_test)[:, 1]\n",
    "\n",
    "# Accuracy\n",
    "accuracy = best_rf_model.score(X_test, y_test)\n",
    "print(f\"\\nTest Accuracy: {accuracy:.2f}\")\n",
    "\n",
    "# Classification report\n",
    "print(\"\\nClassification Report:\")\n",
    "print(classification_report(y_test, y_pred))\n",
    "\n",
    "# Confusion matrix\n",
    "conf_matrix = confusion_matrix(y_test, y_pred)\n",
    "print(\"\\nConfusion Matrix:\")\n",
    "print(conf_matrix)\n",
    "\n",
    "# Plot ROC Curve\n",
    "roc_auc = roc_auc_score(y_test, y_proba)\n",
    "print(f\"\\nROC-AUC Score: {roc_auc:.2f}\")\n",
    "RocCurveDisplay.from_estimator(best_rf_model, X_test, y_test)\n",
    "plt.title(\"ROC Curve - Random Forest\")\n",
    "plt.show()"
   ]
  },
  {
   "cell_type": "markdown",
   "metadata": {},
   "source": [
    "\n",
    "### Visualizations:\n",
    "- The ROC Curve demonstrates excellent discrimination ability, with an AUC of 0.98."
   ]
  },
  {
   "cell_type": "markdown",
   "metadata": {},
   "source": [
    "## Conclusion\n",
    "\n",
    "The Random Forest model demonstrated excellent performance in predicting employee attrition. With an accuracy of 94% and an AUC of 0.98, the model is highly effective at distinguishing between employees likely to leave and those likely to stay. The balanced precision, recall, and F1-scores for both classes highlight the model's robustness.\n",
    "\n",
    "### Key Insights:\n",
    "- The model can be a valuable tool for identifying at-risk employees, enabling targeted retention strategies.\n",
    "- Future improvements may involve exploring additional features or fine-tuning hyperparameters further.\n",
    "\n",
    "The results underscore the business value of data-driven approaches to employee retention."
   ]
  }
 ],
 "metadata": {
  "kernelspec": {
   "display_name": "venv",
   "language": "python",
   "name": "python3"
  },
  "language_info": {
   "codemirror_mode": {
    "name": "ipython",
    "version": 3
   },
   "file_extension": ".py",
   "mimetype": "text/x-python",
   "name": "python",
   "nbconvert_exporter": "python",
   "pygments_lexer": "ipython3",
   "version": "3.9.13"
  }
 },
 "nbformat": 4,
 "nbformat_minor": 2
}
