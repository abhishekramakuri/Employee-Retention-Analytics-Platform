{
 "cells": [
  {
   "cell_type": "code",
   "execution_count": 10,
   "metadata": {},
   "outputs": [],
   "source": [
    "# File: data_prep_and_modeling\n",
    "# -----------------------------\n",
    "# Objective:\n",
    "# - Prepare the dataset for machine learning by encoding, sclaing, and handling class imbalance.\n",
    "# - Split the data into training and testing sets.\n",
    "# - Lay the groundwork for predictive modeling."
   ]
  },
  {
   "cell_type": "code",
   "execution_count": 11,
   "metadata": {},
   "outputs": [],
   "source": [
    "# Import libraries\n",
    "import pandas as pd\n",
    "import matplotlib.pyplot as plt"
   ]
  },
  {
   "cell_type": "code",
   "execution_count": 12,
   "metadata": {},
   "outputs": [
    {
     "name": "stdout",
     "output_type": "stream",
     "text": [
      "Dataset Loaded. Shape: (1470, 36)\n"
     ]
    }
   ],
   "source": [
    "# Verify data\n",
    "\n",
    "# Load engineered data\n",
    "data = pd.read_csv('../data/engineered_dataset.csv')\n",
    "print(\"Dataset Loaded. Shape:\", data.shape)\n",
    "\n"
   ]
  },
  {
   "cell_type": "code",
   "execution_count": 13,
   "metadata": {},
   "outputs": [
    {
     "name": "stdout",
     "output_type": "stream",
     "text": [
      "Missing Values:\n",
      "Age                         0\n",
      "Attrition                   0\n",
      "BusinessTravel              0\n",
      "DailyRate                   0\n",
      "Department                  0\n",
      "DistanceFromHome            0\n",
      "Education                   0\n",
      "EducationField              0\n",
      "EnvironmentSatisfaction     0\n",
      "Gender                      0\n",
      "HourlyRate                  0\n",
      "JobInvolvement              0\n",
      "JobLevel                    0\n",
      "JobRole                     0\n",
      "JobSatisfaction             0\n",
      "MaritalStatus               0\n",
      "MonthlyIncome               0\n",
      "MonthlyRate                 0\n",
      "NumCompaniesWorked          0\n",
      "OverTime                    0\n",
      "PercentSalaryHike           0\n",
      "PerformanceRating           0\n",
      "RelationshipSatisfaction    0\n",
      "StockOptionLevel            0\n",
      "TotalWorkingYears           0\n",
      "TrainingTimesLastYear       0\n",
      "WorkLifeBalance             0\n",
      "YearsAtCompany              0\n",
      "YearsInCurrentRole          0\n",
      "YearsSinceLastPromotion     0\n",
      "YearsWithCurrManager        0\n",
      "RoleStability               0\n",
      "OverTime_Binary             0\n",
      "OT_WorkLifeImpact           0\n",
      "SeniorityImpact             0\n",
      "SatisfactionBalance         0\n",
      "dtype: int64\n",
      "\n",
      "Dataset Information:\n",
      "<class 'pandas.core.frame.DataFrame'>\n",
      "RangeIndex: 1470 entries, 0 to 1469\n",
      "Data columns (total 36 columns):\n",
      " #   Column                    Non-Null Count  Dtype  \n",
      "---  ------                    --------------  -----  \n",
      " 0   Age                       1470 non-null   int64  \n",
      " 1   Attrition                 1470 non-null   int64  \n",
      " 2   BusinessTravel            1470 non-null   object \n",
      " 3   DailyRate                 1470 non-null   int64  \n",
      " 4   Department                1470 non-null   object \n",
      " 5   DistanceFromHome          1470 non-null   int64  \n",
      " 6   Education                 1470 non-null   int64  \n",
      " 7   EducationField            1470 non-null   object \n",
      " 8   EnvironmentSatisfaction   1470 non-null   int64  \n",
      " 9   Gender                    1470 non-null   object \n",
      " 10  HourlyRate                1470 non-null   int64  \n",
      " 11  JobInvolvement            1470 non-null   int64  \n",
      " 12  JobLevel                  1470 non-null   int64  \n",
      " 13  JobRole                   1470 non-null   object \n",
      " 14  JobSatisfaction           1470 non-null   int64  \n",
      " 15  MaritalStatus             1470 non-null   object \n",
      " 16  MonthlyIncome             1470 non-null   int64  \n",
      " 17  MonthlyRate               1470 non-null   int64  \n",
      " 18  NumCompaniesWorked        1470 non-null   int64  \n",
      " 19  OverTime                  1470 non-null   object \n",
      " 20  PercentSalaryHike         1470 non-null   int64  \n",
      " 21  PerformanceRating         1470 non-null   int64  \n",
      " 22  RelationshipSatisfaction  1470 non-null   int64  \n",
      " 23  StockOptionLevel          1470 non-null   int64  \n",
      " 24  TotalWorkingYears         1470 non-null   int64  \n",
      " 25  TrainingTimesLastYear     1470 non-null   int64  \n",
      " 26  WorkLifeBalance           1470 non-null   int64  \n",
      " 27  YearsAtCompany            1470 non-null   int64  \n",
      " 28  YearsInCurrentRole        1470 non-null   int64  \n",
      " 29  YearsSinceLastPromotion   1470 non-null   int64  \n",
      " 30  YearsWithCurrManager      1470 non-null   int64  \n",
      " 31  RoleStability             1470 non-null   float64\n",
      " 32  OverTime_Binary           1470 non-null   int64  \n",
      " 33  OT_WorkLifeImpact         1470 non-null   float64\n",
      " 34  SeniorityImpact           1470 non-null   float64\n",
      " 35  SatisfactionBalance       1470 non-null   int64  \n",
      "dtypes: float64(3), int64(26), object(7)\n",
      "memory usage: 413.6+ KB\n",
      "None\n",
      "\n",
      "First five rows of the dataset: \n",
      "   Age  Attrition  ... SeniorityImpact  SatisfactionBalance\n",
      "0   41          1  ...        0.749999                    4\n",
      "1   49          0  ...        0.999999                    6\n",
      "2   37          1  ...        0.000000                    9\n",
      "3   33          0  ...        0.999999                    9\n",
      "4   27          0  ...        0.333333                    6\n",
      "\n",
      "[5 rows x 36 columns]\n"
     ]
    }
   ],
   "source": [
    "# Triple check for missing values\n",
    "print(\"Missing Values:\")\n",
    "print(data.isnull().sum())\n",
    "\n",
    "# Refresh yourself on data structure\n",
    "print(\"\\nDataset Information:\")\n",
    "print(data.info())\n",
    "\n",
    "# Refresh on the head\n",
    "print(\"\\nFirst five rows of the dataset: \")\n",
    "print(data.head())"
   ]
  },
  {
   "cell_type": "code",
   "execution_count": 14,
   "metadata": {},
   "outputs": [],
   "source": [
    "# Dataset Verification: Summary and Findings\n",
    "# -------------------------------------------\n",
    "# Overview:\n",
    "# - The dataset contains 1470 rows and 36 columns.\n",
    "# - No missing values were found, indicating a clean dataset.\n",
    "# - Feature engineering has been successfully applied, and new features \n",
    "#   like RoleStability, OT_WorkLifeImpact, SeniorityImpact, and SatisfactionBalance are present.\n",
    "\n",
    "# Data Types:\n",
    "# - Numerical Features: 26 columns.\n",
    "# - Categorical Features: 7 columns.\n",
    "\n",
    "# Observations:\n",
    "# - The dataset is ready for preprocessing steps such as encoding, scaling, \n",
    "#   and addressing class imbalance.\n",
    "# - Categorical variables will require one-hot encoding for compatibility with machine learning models.\n",
    "\n",
    "# Next Steps:\n",
    "# 1. Encode Categorical Variables:\n",
    "#    - Convert categorical columns (e.g., BusinessTravel, Department) into numerical \n",
    "#      representations using one-hot encoding.\n",
    "#    - Ensure the dataset structure is preserved, and new columns are created as expected.\n",
    "# 2. Scale Numerical Features:\n",
    "#    - Normalize numerical columns to bring them into a consistent range.\n",
    "# 3. Address Class Imbalance:\n",
    "#    - Handle the imbalance in Attrition using oversampling techniques like SMOTE.\n",
    "# 4. Split Dataset:\n",
    "#    - Divide the dataset into training and testing sets to prepare for modeling.\n"
   ]
  },
  {
   "cell_type": "code",
   "execution_count": 15,
   "metadata": {},
   "outputs": [],
   "source": [
    "# Encode categorical variables\n",
    "categorical_cols = ['BusinessTravel', 'Department', 'EducationField', 'Gender', 'JobRole', 'MaritalStatus', 'OverTime']\n",
    "data = pd.get_dummies(data, columns=categorical_cols, drop_first=True)"
   ]
  },
  {
   "cell_type": "code",
   "execution_count": 16,
   "metadata": {},
   "outputs": [
    {
     "name": "stdout",
     "output_type": "stream",
     "text": [
      "\n",
      "Updated Dataset Columns:\n",
      "Index(['Age', 'Attrition', 'DailyRate', 'DistanceFromHome', 'Education',\n",
      "       'EnvironmentSatisfaction', 'HourlyRate', 'JobInvolvement', 'JobLevel',\n",
      "       'JobSatisfaction', 'MonthlyIncome', 'MonthlyRate', 'NumCompaniesWorked',\n",
      "       'PercentSalaryHike', 'PerformanceRating', 'RelationshipSatisfaction',\n",
      "       'StockOptionLevel', 'TotalWorkingYears', 'TrainingTimesLastYear',\n",
      "       'WorkLifeBalance', 'YearsAtCompany', 'YearsInCurrentRole',\n",
      "       'YearsSinceLastPromotion', 'YearsWithCurrManager', 'RoleStability',\n",
      "       'OverTime_Binary', 'OT_WorkLifeImpact', 'SeniorityImpact',\n",
      "       'SatisfactionBalance', 'BusinessTravel_Travel_Frequently',\n",
      "       'BusinessTravel_Travel_Rarely', 'Department_Research & Development',\n",
      "       'Department_Sales', 'EducationField_Life Sciences',\n",
      "       'EducationField_Marketing', 'EducationField_Medical',\n",
      "       'EducationField_Other', 'EducationField_Technical Degree',\n",
      "       'Gender_Male', 'JobRole_Human Resources',\n",
      "       'JobRole_Laboratory Technician', 'JobRole_Manager',\n",
      "       'JobRole_Manufacturing Director', 'JobRole_Research Director',\n",
      "       'JobRole_Research Scientist', 'JobRole_Sales Executive',\n",
      "       'JobRole_Sales Representative', 'MaritalStatus_Married',\n",
      "       'MaritalStatus_Single', 'OverTime_Yes'],\n",
      "      dtype='object')\n"
     ]
    }
   ],
   "source": [
    "# Verify updated dataset columns\n",
    "print(\"\\nUpdated Dataset Columns:\")\n",
    "print(data.columns)"
   ]
  },
  {
   "cell_type": "code",
   "execution_count": 17,
   "metadata": {},
   "outputs": [
    {
     "name": "stdout",
     "output_type": "stream",
     "text": [
      "\n",
      "Dataset Shape After Encoding: (1470, 50)\n"
     ]
    }
   ],
   "source": [
    "# Recheck shape of the dataset\n",
    "print(\"\\nDataset Shape After Encoding:\", data.shape)"
   ]
  },
  {
   "cell_type": "code",
   "execution_count": 18,
   "metadata": {},
   "outputs": [],
   "source": [
    "# Categorical Variable Encoding: Summary\n",
    "# ---------------------------------------\n",
    "# Objective:\n",
    "# - Convert categorical variables into numerical format using one-hot encoding to ensure compatibility with machine learning algorithms.\n",
    "#\n",
    "# Process:\n",
    "# - Applied one-hot encoding to the following categorical columns:\n",
    "#   - BusinessTravel, Department, EducationField, Gender, JobRole, MaritalStatus, OverTime.\n",
    "# - Used the `drop_first=True` option to avoid multicollinearity by excluding the first category of each column.\n",
    "# - New binary columns were created for each category, replacing the original categorical variables.\n",
    "#\n",
    "# Results:\n",
    "# - The dataset now includes one-hot encoded columns such as:\n",
    "#   - BusinessTravel_Travel_Frequently, BusinessTravel_Travel_Rarely.\n",
    "#   - Department_Research & Development, Department_Sales.\n",
    "#   - OverTime_Yes, Gender_Male, etc.\n",
    "# - The total number of columns increased from 36 to 50 due to the added encoded columns."
   ]
  },
  {
   "cell_type": "code",
   "execution_count": 19,
   "metadata": {},
   "outputs": [
    {
     "name": "stdout",
     "output_type": "stream",
     "text": [
      "\n",
      "Sample of Scaled Numerical Features:\n",
      "        Age  DailyRate  ...  YearsSinceLastPromotion  YearsWithCurrManager\n",
      "0  0.547619   0.715820  ...                 0.000000              0.294118\n",
      "1  0.738095   0.126700  ...                 0.066667              0.411765\n",
      "2  0.452381   0.909807  ...                 0.000000              0.000000\n",
      "3  0.357143   0.923407  ...                 0.200000              0.000000\n",
      "4  0.214286   0.350036  ...                 0.133333              0.117647\n",
      "\n",
      "[5 rows x 10 columns]\n"
     ]
    }
   ],
   "source": [
    "from sklearn.preprocessing import MinMaxScaler\n",
    "\n",
    "# Define the numerical columns to scale\n",
    "numerical_cols = ['Age', 'DailyRate', 'DistanceFromHome', 'MonthlyIncome',\n",
    "                  'PercentSalaryHike', 'TotalWorkingYears', 'YearsAtCompany',\n",
    "                  'YearsInCurrentRole', 'YearsSinceLastPromotion', 'YearsWithCurrManager']\n",
    "\n",
    "# Initialize the MinMaxScaler\n",
    "scaler = MinMaxScaler()\n",
    "\n",
    "# Apply the scaler to the selected columns\n",
    "data[numerical_cols] = scaler.fit_transform(data[numerical_cols])\n",
    "\n",
    "# Verify the scaled data\n",
    "print(\"\\nSample of Scaled Numerical Features:\")\n",
    "print(data[numerical_cols].head())"
   ]
  },
  {
   "cell_type": "code",
   "execution_count": 20,
   "metadata": {},
   "outputs": [],
   "source": [
    "# Scaling Numerical Features: Summary\n",
    "# ------------------------------------\n",
    "# Objective:\n",
    "# - Normalize numerical features to ensure they contribute equally to machine learning models.\n",
    "# - Use MinMaxScaler to scale all numerical features to a range between 0 and 1.\n",
    "#\n",
    "# Process:\n",
    "# - Selected numerical columns for scaling:\n",
    "#   - Age, DailyRate, DistanceFromHome, MonthlyIncome, PercentSalaryHike, \n",
    "#     TotalWorkingYears, YearsAtCompany, YearsInCurrentRole, \n",
    "#     YearsSinceLastPromotion, YearsWithCurrManager.\n",
    "# - Applied MinMaxScaler to transform these columns.\n",
    "# - Ensured that scaling preserved the relative relationships between data points.\n",
    "#\n",
    "# Results:\n",
    "# - All numerical features are now scaled to the range [0, 1].\n",
    "# - Sample of scaled features:\n",
    "#   - Age: 0.214 (min) to 0.738 (max).\n",
    "#   - MonthlyIncome: 0.057 (min) to 0.262 (max).\n",
    "#   - YearsAtCompany: 0.00 (min) to 0.25 (max).\n",
    "# - This transformation ensures that features like MonthlyIncome do not dominate \n",
    "#   smaller-scale features like PercentSalaryHike during model training.\n",
    "#\n",
    "# Importance:\n",
    "# - Scaling creates a uniform feature range, improving the performance of distance-based \n",
    "#   algorithms.\n"
   ]
  },
  {
   "cell_type": "code",
   "execution_count": 21,
   "metadata": {},
   "outputs": [
    {
     "name": "stdout",
     "output_type": "stream",
     "text": [
      "Class Distribution Before SMOTE: Counter({0: 1233, 1: 237})\n",
      "Class Distribution After SMOTE: Counter({1: 1233, 0: 1233})\n"
     ]
    },
    {
     "name": "stderr",
     "output_type": "stream",
     "text": [
      "/Users/quinnreams/Documents/GitHub/employee-retention-dashboard/venv/lib/python3.9/site-packages/sklearn/base.py:474: FutureWarning: `BaseEstimator._validate_data` is deprecated in 1.6 and will be removed in 1.7. Use `sklearn.utils.validation.validate_data` instead. This function becomes public and is part of the scikit-learn developer API.\n",
      "  warnings.warn(\n"
     ]
    }
   ],
   "source": [
    "from imblearn.over_sampling import SMOTE\n",
    "from collections import Counter\n",
    "\n",
    "# Separate features and target\n",
    "X = data.drop(columns=['Attrition'])\n",
    "y = data['Attrition']\n",
    "\n",
    "# Apply SMOTE to balance the classes\n",
    "smote = SMOTE(random_state=42)\n",
    "X_resampled, y_resampled = smote.fit_resample(X, y)\n",
    "\n",
    "# Verify class distribution after SMOTE\n",
    "print(\"Class Distribution Before SMOTE:\", Counter(y))\n",
    "print(\"Class Distribution After SMOTE:\", Counter(y_resampled))"
   ]
  },
  {
   "cell_type": "code",
   "execution_count": 22,
   "metadata": {},
   "outputs": [],
   "source": [
    "# Class Imbalance Handling: SMOTE\n",
    "# --------------------------------\n",
    "# Objective:\n",
    "# - Address the class imbalance in Attrition.\n",
    "# - Use SMOTE to generate synthetic samples for the minority class (Attrition = 1).\n",
    "#\n",
    "# Process:\n",
    "# - Identified the class distribution before SMOTE:\n",
    "#   - Attrition = 0 (No): 1233 instances.\n",
    "#   - Attrition = 1 (Yes): 237 instances.\n",
    "# - Applied SMOTE to oversample the minority class, creating synthetic samples \n",
    "#   to balance the dataset.\n",
    "#\n",
    "# Results:\n",
    "# - Class distribution after SMOTE:\n",
    "#   - Attrition = 0 (No): 1233 instances.\n",
    "#   - Attrition = 1 (Yes): 1233 instances.\n",
    "# - The dataset is now balanced, ensuring fair model training for both classes.\n",
    "#\n",
    "# Importance:\n",
    "# - Balancing the dataset improves the model's ability to learn patterns for both \n",
    "#   attrition and non-attrition cases, reducing bias toward the majority class."
   ]
  },
  {
   "cell_type": "code",
   "execution_count": 23,
   "metadata": {},
   "outputs": [
    {
     "name": "stdout",
     "output_type": "stream",
     "text": [
      "Training Set Shape (X, y): (1726, 49) (1726,)\n",
      "Testing Set Shape (X, y): (740, 49) (740,)\n"
     ]
    }
   ],
   "source": [
    "from sklearn.model_selection import train_test_split\n",
    "\n",
    "# Split the dataset\n",
    "X_train, X_test, y_train, y_test = train_test_split(X_resampled, y_resampled,\n",
    "                                                    test_size=0.3, random_state=42, stratify=y_resampled)\n",
    "\n",
    "# Verify the shape of the splits\n",
    "print(\"Training Set Shape (X, y):\", X_train.shape, y_train.shape)\n",
    "print(\"Testing Set Shape (X, y):\", X_test.shape, y_test.shape)"
   ]
  },
  {
   "cell_type": "code",
   "execution_count": 24,
   "metadata": {},
   "outputs": [],
   "source": [
    "# Dataset Splitting: Training and Testing Sets\n",
    "# ---------------------------------------------\n",
    "# Objective:\n",
    "# - Divide the dataset into training and testing sets for model development and evaluation.\n",
    "#\n",
    "# Process:\n",
    "# - Used a 70/30 split to allocate data for training and testing.\n",
    "# - Stratified the split to ensure balanced class representation in both sets.\n",
    "# - Features (X): 49 columns (including engineered and encoded features).\n",
    "# - Target (y): Attrition (binary classification).\n",
    "#\n",
    "# Results:\n",
    "# - Training Set:\n",
    "#   - 1726 samples (X: 49 features, y: Attrition).\n",
    "# - Testing Set:\n",
    "#   - 740 samples (X: 49 features, y: Attrition).\n",
    "#\n",
    "# Importance:\n",
    "# - The split ensures the model is trained on a balanced dataset and evaluated \n",
    "#   on a separate, unseen dataset for reliable performance metrics."
   ]
  },
  {
   "cell_type": "code",
   "execution_count": 25,
   "metadata": {},
   "outputs": [
    {
     "name": "stdout",
     "output_type": "stream",
     "text": [
      "Classifacation Report:\n",
      "              precision    recall  f1-score   support\n",
      "\n",
      "           0       0.90      0.95      0.92       370\n",
      "           1       0.95      0.89      0.92       370\n",
      "\n",
      "    accuracy                           0.92       740\n",
      "   macro avg       0.92      0.92      0.92       740\n",
      "weighted avg       0.92      0.92      0.92       740\n",
      "\n",
      "\n",
      "Confusion Matrix:\n",
      "[[351  19]\n",
      " [ 40 330]]\n",
      "\n",
      "ROC-AUC Score:\n",
      "0.972037983929876\n"
     ]
    },
    {
     "data": {
      "image/png": "[encoded data removed]",
      "text/plain": [
       "<Figure size 640x480 with 1 Axes>"
      ]
     },
     "metadata": {},
     "output_type": "display_data"
    }
   ],
   "source": [
    "from sklearn.linear_model import LogisticRegression\n",
    "from sklearn.metrics import classification_report, confusion_matrix, roc_auc_score, RocCurveDisplay\n",
    "\n",
    "# Initialize the logistic regression model\n",
    "log_reg = LogisticRegression(random_state=42, solver='liblinear', max_iter=2000, class_weight='balanced')\n",
    "\n",
    "# Train the model\n",
    "log_reg.fit(X_train, y_train)\n",
    "\n",
    "# Make predictions on the testing act\n",
    "y_pred = log_reg.predict(X_test)\n",
    "y_proba = log_reg.predict_proba(X_test)[:, 1] # Get probabilities for ROC-AUC\n",
    "\n",
    "# Evaluate the model\n",
    "print(\"Classifacation Report:\")\n",
    "print(classification_report(y_test, y_pred))\n",
    "\n",
    "print(\"\\nConfusion Matrix:\")\n",
    "print(confusion_matrix(y_test, y_pred))\n",
    "\n",
    "print(\"\\nROC-AUC Score:\")\n",
    "print(roc_auc_score(y_test, y_proba))\n",
    "\n",
    "# Plot the ROC Curve\n",
    "RocCurveDisplay.from_estimator(log_reg, X_test, y_test)\n",
    "plt.title(\"ROC Curve - Logistic Regression\")\n",
    "plt.show()"
   ]
  },
  {
   "cell_type": "code",
   "execution_count": 26,
   "metadata": {},
   "outputs": [],
   "source": [
    "# Logistic Regression: Updated Results\n",
    "# -------------------------------------\n",
    "# Objective:\n",
    "# - Train a baseline logistic regression model to predict employee attrition.\n",
    "# - Address the convergence warning by increasing the maximum number of iterations.\n",
    "\n",
    "# Performance Summary:\n",
    "# - The model shows strong performance across all key metrics:\n",
    "#   - Accuracy: 92%, indicating that 92% of predictions were correct overall.\n",
    "#   - Precision:\n",
    "#     - Attrition = No: 90% of predicted \"No Attrition\" cases are correct.\n",
    "#     - Attrition = Yes: 94% of predicted \"Yes Attrition\" cases are correct.\n",
    "#   - Recall:\n",
    "#     - Attrition = No: 94% of actual \"No Attrition\" cases were identified correctly.\n",
    "#     - Attrition = Yes: 90% of actual \"Yes Attrition\" cases were identified correctly.\n",
    "#   - F1-Score: Balanced at 0.92 for both classes.\n",
    "# - Confusion Matrix:\n",
    "#   - True Negatives (TN): 347 | False Positives (FP): 23.\n",
    "#   - False Negatives (FN): 37  | True Positives (TP): 333.\n",
    "# - ROC-AUC Score: 0.97, showing excellent discriminatory power between classes.\n",
    "\n",
    "# Observations:\n",
    "# - The model slightly favors \"Attrition = No,\" but the balance between precision and recall is strong.\n",
    "# - The ROC curve shows high true positive rates with minimal false positives, supporting the high ROC-AUC score.\n",
    "\n",
    "# Challenges:\n",
    "# - A convergence warning persists despite increasing the maximum iterations (max_iter = 2000).\n",
    "# - Potential solutions include:\n",
    "#   - Trying a different solver.\n",
    "#   - Reducing the number of features to simplify the optimization problem.\n",
    "\n",
    "# Importance:\n",
    "# - Logistic regression provides a strong and interpretable baseline model.\n",
    "# - The balanced performance across metrics demonstrates the effectiveness of data preprocessing (e.g., SMOTE balancing, scaling).\n"
   ]
  },
  {
   "cell_type": "code",
   "execution_count": 27,
   "metadata": {},
   "outputs": [],
   "source": [
    "# Logistic Regression: Final Results with liblinear Solver\n",
    "# ---------------------------------------------------------\n",
    "# Objective:\n",
    "# - Resolve convergence issues in logistic regression by switching to the liblinear solver.\n",
    "#\n",
    "# Performance Summary:\n",
    "# - The model achieved excellent performance across all key metrics:\n",
    "#   - Accuracy: 92%.\n",
    "#   - Precision:\n",
    "#     - Attrition = No: 90%.\n",
    "#     - Attrition = Yes: 95%.\n",
    "#   - Recall:\n",
    "#     - Attrition = No: 95%.\n",
    "#     - Attrition = Yes: 89%.\n",
    "#   - F1-Score: Balanced at 0.92 for both classes.\n",
    "#   - ROC-AUC Score: 0.97, showing excellent discriminatory power.\n",
    "#\n",
    "# Confusion Matrix:\n",
    "# - True Negatives (TN): 351 | False Positives (FP): 19.\n",
    "# - False Negatives (FN): 40  | True Positives (TP): 330.\n",
    "#\n",
    "# Observations:\n",
    "# - The liblinear solver resolved convergence issues without compromising performance.\n",
    "# - The model is highly effective at predicting both \"Attrition\" and \"No Attrition.\"\n",
    "#\n",
    "# Next Steps:\n",
    "# - Compare logistic regression performance with more advanced models.\n"
   ]
  },
  {
   "cell_type": "code",
   "execution_count": 28,
   "metadata": {},
   "outputs": [
    {
     "name": "stdout",
     "output_type": "stream",
     "text": [
      "Classification Report - Random Forest:\n",
      "              precision    recall  f1-score   support\n",
      "\n",
      "           0       0.92      0.95      0.93       370\n",
      "           1       0.95      0.92      0.93       370\n",
      "\n",
      "    accuracy                           0.93       740\n",
      "   macro avg       0.93      0.93      0.93       740\n",
      "weighted avg       0.93      0.93      0.93       740\n",
      "\n",
      "\n",
      "Confusion Matrix - Random Forest:\n",
      "[[352  18]\n",
      " [ 31 339]]\n",
      "\n",
      "ROC-AUC Score - Random Forest:\n",
      "0.9777392257121986\n"
     ]
    },
    {
     "data": {
      "image/png": "[encoded data removed]",
      "text/plain": [
       "<Figure size 640x480 with 1 Axes>"
      ]
     },
     "metadata": {},
     "output_type": "display_data"
    }
   ],
   "source": [
    "from sklearn.ensemble import RandomForestClassifier\n",
    "from sklearn.metrics import classification_report, confusion_matrix, roc_auc_score, RocCurveDisplay\n",
    "\n",
    "# Initialize Random Forest model\n",
    "rf = RandomForestClassifier(random_state=42, class_weight='balanced', n_estimators=100)\n",
    "\n",
    "# Train the model\n",
    "rf.fit(X_train, y_train)\n",
    "\n",
    "# Make predictions on the test set\n",
    "y_pred_rf = rf.predict(X_test)\n",
    "y_proba_rf = rf.predict_proba(X_test)[:, 1] # Get probabilities for ROC-AUC\n",
    "\n",
    "# Evaluate the model\n",
    "print(\"Classification Report - Random Forest:\")\n",
    "print(classification_report(y_test, y_pred_rf))\n",
    "\n",
    "print(\"\\nConfusion Matrix - Random Forest:\")\n",
    "print(confusion_matrix(y_test, y_pred_rf))\n",
    "\n",
    "print(\"\\nROC-AUC Score - Random Forest:\")\n",
    "print(roc_auc_score(y_test, y_proba_rf))\n",
    "\n",
    "# Plot the ROC Curve\n",
    "RocCurveDisplay.from_estimator(rf, X_test, y_test)\n",
    "plt.title(\"ROC Curve - Random Forest\")\n",
    "plt.show()"
   ]
  },
  {
   "cell_type": "code",
   "execution_count": 29,
   "metadata": {},
   "outputs": [],
   "source": [
    "# Random Forest Classifier: Results\n",
    "# ----------------------------------\n",
    "# Objective:\n",
    "# - Train a Random Forest model to predict employee attrition and compare its performance with Logistic Regression.\n",
    "#\n",
    "# Performance Summary:\n",
    "# - The model achieved strong performance across all key metrics:\n",
    "#   - Accuracy: 93%.\n",
    "#   - Precision:\n",
    "#     - Attrition = No: 92%.\n",
    "#     - Attrition = Yes: 95%.\n",
    "#   - Recall:\n",
    "#     - Attrition = No: 95%.\n",
    "#     - Attrition = Yes: 92%.\n",
    "#   - F1-Score: Balanced at 0.93 for both classes.\n",
    "#   - ROC-AUC Score: 0.98, demonstrating excellent discriminatory power.\n",
    "#\n",
    "# Confusion Matrix:\n",
    "# - True Negatives (TN): 352 | False Positives (FP): 18.\n",
    "# - False Negatives (FN): 31  | True Positives (TP): 339.\n",
    "#\n",
    "# Observations:\n",
    "# - The Random Forest model slightly outperforms Logistic Regression in terms of accuracy, F1-score, and ROC-AUC.\n",
    "# - Lower false positives and false negatives highlight the model's strength in minimizing misclassifications.\n"
   ]
  },
  {
   "cell_type": "code",
   "execution_count": 30,
   "metadata": {},
   "outputs": [
    {
     "name": "stdout",
     "output_type": "stream",
     "text": [
      "Top 10 Features by Importance:\n",
      "                    Feature  Importance\n",
      "25        OT_WorkLifeImpact    0.108622\n",
      "48             OverTime_Yes    0.075138\n",
      "15         StockOptionLevel    0.049647\n",
      "47     MaritalStatus_Single    0.044097\n",
      "7                  JobLevel    0.039807\n",
      "16        TotalWorkingYears    0.030990\n",
      "0                       Age    0.029110\n",
      "2          DistanceFromHome    0.029073\n",
      "26          SeniorityImpact    0.027253\n",
      "4   EnvironmentSatisfaction    0.026996\n"
     ]
    },
    {
     "data": {
      "image/png": "[encoded data removed]",
      "text/plain": [
       "<Figure size 1000x600 with 1 Axes>"
      ]
     },
     "metadata": {},
     "output_type": "display_data"
    }
   ],
   "source": [
    "# Extract feature importances\n",
    "feature_importances = pd.DataFrame({\n",
    "    'Feature': X_train.columns,\n",
    "    'Importance': rf.feature_importances_\n",
    "})\n",
    "\n",
    "# Sort features by importance\n",
    "feature_importances = feature_importances.sort_values(by='Importance', ascending=False)\n",
    "\n",
    "# Display the top ten most important features\n",
    "print(\"Top 10 Features by Importance:\")\n",
    "print(feature_importances.head(10))\n",
    "\n",
    "# Plot the feature importances\n",
    "plt.figure(figsize=(10, 6))\n",
    "plt.barh(feature_importances['Feature'][:10], feature_importances['Importance'][:10], color='skyblue')\n",
    "plt.xlabel('Importance')\n",
    "plt.ylabel('Feature')\n",
    "plt.title('Top 10 Feature Importances - Random Forest')\n",
    "plt.gca().invert_yaxis() # <-- To show the most important feature at the top\n",
    "plt.show()"
   ]
  },
  {
   "cell_type": "code",
   "execution_count": 31,
   "metadata": {},
   "outputs": [],
   "source": [
    "# Feature Importance Analysis - Random Forest\n",
    "# --------------------------------------------\n",
    "# Objective:\n",
    "# - Identify the most important features contributing to employee attrition predictions.\n",
    "#\n",
    "# Top 10 Features:\n",
    "# 1. OT_WorkLifeImpact (0.109): Interaction between overtime and work-life balance.\n",
    "# 2. OverTime_Yes (0.075): Whether employees work overtime.\n",
    "# 3. StockOptionLevel (0.050): Significance of stock options in retaining employees.\n",
    "# 4. MaritalStatus_Single (0.044): Single employees may have higher attrition risk.\n",
    "# 5. JobLevel (0.040): Role hierarchy's impact on retention.\n",
    "# 6. TotalWorkingYears (0.031): Overall work experience and external opportunities.\n",
    "# 7. Age (0.029): Younger employees show higher attrition tendencies.\n",
    "# 8. DistanceFromHome (0.029): Longer commutes contribute to attrition risk.\n",
    "# 9. SeniorityImpact (0.027): Proportion of total work experience at the company.\n",
    "# 10. EnvironmentSatisfaction (0.027): Satisfaction with the workplace environment.\n",
    "#\n",
    "# Observations:\n",
    "# - Work-life balance features dominate, highlighting the importance of employee well-being.\n",
    "# - Job stability, benefits, and personal circumstances significantly impact retention."
   ]
  },
  {
   "cell_type": "code",
   "execution_count": 35,
   "metadata": {},
   "outputs": [
    {
     "name": "stdout",
     "output_type": "stream",
     "text": [
      "Model trained with the best parameters.\n",
      "Test Accuracy: 0.93\n",
      "\n",
      "Classification Report:\n",
      "              precision    recall  f1-score   support\n",
      "\n",
      "           0       0.91      0.95      0.93       370\n",
      "           1       0.95      0.91      0.93       370\n",
      "\n",
      "    accuracy                           0.93       740\n",
      "   macro avg       0.93      0.93      0.93       740\n",
      "weighted avg       0.93      0.93      0.93       740\n",
      "\n",
      "\n",
      "Confusion Matrix:\n",
      "[[353  17]\n",
      " [ 33 337]]\n",
      "\n",
      "ROC-AUC Score: 0.98\n"
     ]
    },
    {
     "data": {
      "image/png": "[encoded data removed]",
      "text/plain": [
       "<Figure size 640x480 with 1 Axes>"
      ]
     },
     "metadata": {},
     "output_type": "display_data"
    }
   ],
   "source": [
    "from sklearn.ensemble import RandomForestClassifier\n",
    "\n",
    "# Initialize the Random Forest model with the best parameters\n",
    "best_rf_model = RandomForestClassifier(\n",
    "    n_estimators=300,               # Best number of trees\n",
    "    max_depth=20,                   # Best max tree depth\n",
    "    min_samples_split=2,            # Best min samples to split a node\n",
    "    min_samples_leaf=1,             # Best min samples in a leaf node\n",
    "    class_weight='balanced_subsample',  # Best class weight handling\n",
    "    random_state=42                 # For reproducibility\n",
    ")\n",
    "\n",
    "# Train the model\n",
    "best_rf_model.fit(X_train, y_train)\n",
    "\n",
    "# Evaluate the model\n",
    "y_pred = best_rf_model.predict(X_test)\n",
    "y_proba = best_rf_model.predict_proba(X_test)[:, 1]\n",
    "\n",
    "print(\"Model trained with the best parameters.\")"
   ]
  },
  {
   "cell_type": "code",
   "execution_count": null,
   "metadata": {},
   "outputs": [],
   "source": [
    "# Random Forest Model Results\n",
    "# -----------------------------\n",
    "# Best Parameters Found:\n",
    "# - class_weight: 'balanced_subsample'\n",
    "# - max_depth: 20\n",
    "# - min_samples_leaf: 1\n",
    "# - min_samples_split: 2\n",
    "# - n_estimators: 300\n",
    "#\n",
    "# Cross-Validation Performance:\n",
    "# - Best Cross-Validation Score: 0.9713\n",
    "#\n",
    "# Test Set Performance:\n",
    "# - Accuracy: 0.9324\n",
    "# - Classification Report:\n",
    "#   - Class 0:\n",
    "#       - Precision: 0.91\n",
    "#       - Recall: 0.95\n",
    "#       - F1-Score: 0.93\n",
    "#   - Class 1:\n",
    "#       - Precision: 0.95\n",
    "#       - Recall: 0.91\n",
    "#       - F1-Score: 0.93\n",
    "#   - Macro Average:\n",
    "#       - Precision: 0.93\n",
    "#       - Recall: 0.93\n",
    "#       - F1-Score: 0.93\n",
    "#   - Weighted Average:\n",
    "#       - Precision: 0.93\n",
    "#       - Recall: 0.93\n",
    "#       - F1-Score: 0.93\n",
    "#\n",
    "# Insights:\n",
    "# 1. The model generalizes well, achieving a test accuracy of 93.2%, close to the cross-validation score.\n",
    "# 2. Balanced precision and recall indicate no bias towards either class.\n",
    "# 3. Class weights helped handle any class imbalance effectively."
   ]
  },
  {
   "cell_type": "code",
   "execution_count": 37,
   "metadata": {},
   "outputs": [
    {
     "name": "stdout",
     "output_type": "stream",
     "text": [
      "RandomForestClassifier(class_weight='balanced_subsample', max_depth=20,\n",
      "                       n_estimators=300, random_state=42)\n"
     ]
    }
   ],
   "source": [
    "# Extract the best model from grid search\n",
    "best_rf_model = grid_search.best_estimator_\n",
    "\n",
    "# Output for confirmation\n",
    "print(best_rf_model)"
   ]
  },
  {
   "cell_type": "code",
   "execution_count": 38,
   "metadata": {},
   "outputs": [
    {
     "name": "stdout",
     "output_type": "stream",
     "text": [
      "Test ROC-AUC: 0.9800584368151937\n",
      "Classification Report:\n",
      "               precision    recall  f1-score   support\n",
      "\n",
      "           0       0.91      0.95      0.93       370\n",
      "           1       0.95      0.91      0.93       370\n",
      "\n",
      "    accuracy                           0.93       740\n",
      "   macro avg       0.93      0.93      0.93       740\n",
      "weighted avg       0.93      0.93      0.93       740\n",
      "\n"
     ]
    }
   ],
   "source": [
    "# Make predictions\n",
    "y_pred = best_rf_model.predict(X_test)\n",
    "y_pred_proba = best_rf_model.predict_proba(X_test)[:, 1]  # Probabilities for ROC-AUC\n",
    "\n",
    "# Evaluate the performance\n",
    "from sklearn.metrics import roc_auc_score, classification_report\n",
    "\n",
    "# ROC-AUC\n",
    "roc_auc = roc_auc_score(y_test, y_pred_proba)\n",
    "print(\"Test ROC-AUC:\", roc_auc)\n",
    "\n",
    "# Classification report\n",
    "print(\"Classification Report:\\n\", classification_report(y_test, y_pred))"
   ]
  },
  {
   "cell_type": "code",
   "execution_count": null,
   "metadata": {},
   "outputs": [],
   "source": [
    "# Best model evaluation results\n",
    "# ------------------------------\n",
    "# ROC-AUC: 0.980\n",
    "# Indicates excellent ability of the model to distinguish between classes.\n",
    "# Accuracy: 93%\n",
    "# Indicates the overall correctness of predictions.\n",
    "\n",
    "# Classification Report:\n",
    "# Class 0 (Non-Attrition): Precision = 91%, Recall = 95%\n",
    "# Class 1 (Attrition): Precision = 95%, Recall = 91%\n",
    "# The model performs consistently well across both classes, minimizing bias."
   ]
  },
  {
   "cell_type": "code",
   "execution_count": 34,
   "metadata": {},
   "outputs": [
    {
     "name": "stdout",
     "output_type": "stream",
     "text": [
      "Best model saved as best_rf_model.joblib.\n"
     ]
    }
   ],
   "source": [
    "import joblib\n",
    "\n",
    "# Save the best model to a file\n",
    "model_filename = 'best_rf_model.joblib'\n",
    "joblib.dump(best_rf_model, model_filename)\n",
    "\n",
    "print(f\"Best model saved as {model_filename}.\")"
   ]
  }
 ],
 "metadata": {
  "kernelspec": {
   "display_name": "venv",
   "language": "python",
   "name": "python3"
  },
  "language_info": {
   "codemirror_mode": {
    "name": "ipython",
    "version": 3
   },
   "file_extension": ".py",
   "mimetype": "text/x-python",
   "name": "python",
   "nbconvert_exporter": "python",
   "pygments_lexer": "ipython3",
   "version": "3.9.13"
  }
 },
 "nbformat": 4,
 "nbformat_minor": 2
}
